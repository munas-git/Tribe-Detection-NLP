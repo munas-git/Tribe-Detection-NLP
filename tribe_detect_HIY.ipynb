{
 "cells": [
  {
   "cell_type": "markdown",
   "id": "bc226191",
   "metadata": {},
   "source": [
    "### Importing important libraries"
   ]
  },
  {
   "cell_type": "code",
   "execution_count": 3,
   "id": "d3d2c3f6",
   "metadata": {},
   "outputs": [],
   "source": [
    "import pandas as pd\n",
    "import difflib\n",
    "from pywebio import *\n",
    "from pywebio.input import input, TEXT\n",
    "from pywebio.output import put_info"
   ]
  },
  {
   "cell_type": "markdown",
   "id": "4666ab1b",
   "metadata": {},
   "source": [
    "### Data importing and manipulation"
   ]
  },
  {
   "cell_type": "code",
   "execution_count": 4,
   "id": "d78c3cb4",
   "metadata": {},
   "outputs": [
    {
     "data": {
      "text/html": [
       "<div>\n",
       "<style scoped>\n",
       "    .dataframe tbody tr th:only-of-type {\n",
       "        vertical-align: middle;\n",
       "    }\n",
       "\n",
       "    .dataframe tbody tr th {\n",
       "        vertical-align: top;\n",
       "    }\n",
       "\n",
       "    .dataframe thead th {\n",
       "        text-align: right;\n",
       "    }\n",
       "</style>\n",
       "<table border=\"1\" class=\"dataframe\">\n",
       "  <thead>\n",
       "    <tr style=\"text-align: right;\">\n",
       "      <th></th>\n",
       "      <th>name</th>\n",
       "      <th>tribe</th>\n",
       "    </tr>\n",
       "  </thead>\n",
       "  <tbody>\n",
       "    <tr>\n",
       "      <th>0</th>\n",
       "      <td>aaliyah</td>\n",
       "      <td>hausa</td>\n",
       "    </tr>\n",
       "    <tr>\n",
       "      <th>1</th>\n",
       "      <td>abdulhamid</td>\n",
       "      <td>hausa</td>\n",
       "    </tr>\n",
       "    <tr>\n",
       "      <th>2</th>\n",
       "      <td>abdulkadir</td>\n",
       "      <td>hausa</td>\n",
       "    </tr>\n",
       "    <tr>\n",
       "      <th>3</th>\n",
       "      <td>abdullahi</td>\n",
       "      <td>hausa</td>\n",
       "    </tr>\n",
       "    <tr>\n",
       "      <th>4</th>\n",
       "      <td>abdurrahim</td>\n",
       "      <td>hausa</td>\n",
       "    </tr>\n",
       "  </tbody>\n",
       "</table>\n",
       "</div>"
      ],
      "text/plain": [
       "         name  tribe\n",
       "0     aaliyah  hausa\n",
       "1  abdulhamid  hausa\n",
       "2  abdulkadir  hausa\n",
       "3   abdullahi  hausa\n",
       "4  abdurrahim  hausa"
      ]
     },
     "execution_count": 4,
     "metadata": {},
     "output_type": "execute_result"
    }
   ],
   "source": [
    "data = pd.read_csv('names_tribe.csv')\n",
    "data.head()"
   ]
  },
  {
   "cell_type": "code",
   "execution_count": 5,
   "id": "fab3c89a",
   "metadata": {},
   "outputs": [],
   "source": [
    "def make_tuple(data):\n",
    "    name_tribe = []\n",
    "    \"\"\"This function creates a tuple of (name, tribe) and adds it into\n",
    "        the name_tribe list\n",
    "    \"\"\"\n",
    "    start = 0\n",
    "    for i in range(0, data.shape[0]):\n",
    "        detail = data.iloc[start] # scanning through each line of the data set to pull out name and tribe\n",
    "        name, tribe = detail.loc['name'], detail.loc['tribe']\n",
    "        details = (name, tribe)\n",
    "        name_tribe.append(details)\n",
    "        start +=1\n",
    "    return name_tribe\n",
    "\n",
    "name_tribe = make_tuple(data) # Storing list of name,tribe tuples."
   ]
  },
  {
   "cell_type": "code",
   "execution_count": 6,
   "id": "dd89b9fb",
   "metadata": {},
   "outputs": [],
   "source": [
    "def tribe_detect(name_tribe):\n",
    "    # name = input(\"enter your name: \")\n",
    "    name_entered = input('Tribe Detection System', type=TEXT, placeholder='Enter your name')\n",
    "    similarity_tuple = []\n",
    "    \"\"\"This function calculates the sequence similarity between name entered\n",
    "        and names available in dataset then returns a tuple\n",
    "    \"\"\"\n",
    "    for names in name_tribe:\n",
    "        sequence = difflib.SequenceMatcher(isjunk=None, a = name_entered.lower(), b = names[0].lower())\n",
    "        similarity = sequence.ratio()*100 # Converting sequence matcher object into percentage\n",
    "        similarity = round(similarity,1) # Rounding up similarity into 1dp\n",
    "        similarity_tuple.append((names[0], names[1], similarity))\n",
    "    run_sort(name_entered, similarity_tuple)"
   ]
  },
  {
   "cell_type": "code",
   "execution_count": 7,
   "id": "fe541c6e",
   "metadata": {},
   "outputs": [],
   "source": [
    "def run_sort(name_entered, similarity_tuple):\n",
    "    \"\"\"This function runs the entire code then sorts the given tuple list\n",
    "        based on the 3rd item in a tuple, index [2] in descending order\n",
    "    \"\"\"\n",
    "    similarity_tuple.sort(key = lambda x:x[2], reverse = True) #Grabbing the tuple with the highest score above 70%\n",
    "    \n",
    "    if similarity_tuple[0][2] > 70:\n",
    "        put_info(f\"The name '{name_entered}' is most likely to be a/an '{similarity_tuple[0][1]}' name\",\n",
    "        closable=True, scope=None, position=- 1)\n",
    "        \n",
    "    else:\n",
    "        put_info(\"Sorry, your name could not be matched.\", closable=True, scope=None, position=- 1)"
   ]
  },
  {
   "cell_type": "code",
   "execution_count": 9,
   "id": "a268e094",
   "metadata": {},
   "outputs": [],
   "source": [
    "tribe_detect(name_tribe)"
   ]
  }
 ],
 "metadata": {
  "kernelspec": {
   "display_name": "Python 3 (ipykernel)",
   "language": "python",
   "name": "python3"
  },
  "language_info": {
   "codemirror_mode": {
    "name": "ipython",
    "version": 3
   },
   "file_extension": ".py",
   "mimetype": "text/x-python",
   "name": "python",
   "nbconvert_exporter": "python",
   "pygments_lexer": "ipython3",
   "version": "3.10.3"
  }
 },
 "nbformat": 4,
 "nbformat_minor": 5
}
